{
 "cells": [
  {
   "cell_type": "code",
   "execution_count": null,
   "metadata": {},
   "outputs": [],
   "source": []
  },
  {
   "cell_type": "code",
   "execution_count": 24,
   "metadata": {},
   "outputs": [
    {
     "name": "stdout",
     "output_type": "stream",
     "text": [
      "in comparison to dogs, cats have not undergone major changes during the domestication process.\n",
      "\n",
      "as cat simply catenates streams of bytes, it can be also used to concatenate binary files, where it will just concatenate sequence of bytes.\n",
      "\n",
      "a common interactive use of cat for a single file is to output the content of a file to standard output.\n",
      "\n",
      "cats can hear sounds too faint or too high in frequency for human ears, such as those made by mice and other small animals.\n",
      "\n",
      "in one, people deliberately tamed cats in a process of artificial selection, as they were useful predators of vermin.\n",
      "\n",
      "the domesticated cat and its closest wild ancestor are both diploid organisms that possess 38 chromosomes and roughly 20,000 genes.\n",
      "\n",
      "domestic cats are similar in size to the other members of the genus felis, typically weighing between 4 and 5 kg (8.8 and 11.0 lb).\n",
      "\n",
      "however, if the output is piped or redirected, cat is unnecessary.\n",
      "\n",
      "cat with one named file is safer where human error is a concern - one wrong use of the default redirection symbol \">\" instead of \"<\" (often adjacent on keyboards) may permanently delete the file you were just needing to read.\n",
      "\n",
      "in terms of legibility, a sequence of commands starting with cat and connected by pipes has a clear left-to-right flow of information.\n",
      "\n",
      "cat command is one of the basic commands that you learned when you started in the unix / linux world.\n",
      "\n",
      "using cat command, the lines received from stdin can be redirected to a new file using redirection symbols.\n",
      "\n",
      "when you type simply cat command without any arguments, it just receives the stdin content and displays it in the stdout.\n",
      "\n",
      "leopard was released on october 26, 2007 as the successor of tiger (version 10.4), and is available in two editions.\n",
      "\n",
      "according to apple, leopard contains over 300 changes and enhancements over its predecessor, mac os x tiger.\n",
      "\n",
      "as of mid 2010, some apple computers have firmware factory installed which will no longer allow installation of mac os x leopard.\n",
      "\n",
      "since apple moved to using intel processors in their computers, the osx86 community has developed and now also allows mac os x tiger and later releases to be installed on non-apple x86-based computers.\n",
      "\n",
      "os x mountain lion was released on july 25, 2012 for purchase and download through apple's mac app store, as part of a switch to releasing os x versions online and every year.\n",
      "\n",
      "apple has released a small patch for the three most recent versions of safari running on os x yosemite, mavericks, and mountain lion.\n",
      "\n",
      "the mountain lion release marks the second time apple has offered an incremental upgrade, rather than releasing a new cat entirely.\n",
      "\n",
      "mac os x mountain lion installs in place, so you won't need to create a separate disk or run the installation off an external drive.\n",
      "\n",
      "the fifth major update to mac os x, leopard, contains such a mountain of features - more than 300 by apple's count.\n"
     ]
    }
   ],
   "source": [
    "f = open('sentences.txt', 'r')\n",
    "\n",
    "for word in f:\n",
    "    \n",
    "       print(word.lower())\n",
    "    "
   ]
  },
  {
   "cell_type": "code",
   "execution_count": null,
   "metadata": {},
   "outputs": [],
   "source": []
  },
  {
   "cell_type": "code",
   "execution_count": 27,
   "metadata": {},
   "outputs": [
    {
     "name": "stdout",
     "output_type": "stream",
     "text": [
      "(4, 6)\n"
     ]
    }
   ],
   "source": [
    "import scipy.spatial\n",
    "import numpy \n",
    "import re;\n",
    "\n",
    "i = 0;\n",
    "\n",
    "word_index = {}\n",
    "\n",
    "with open(\"sentences.txt\", \"r\") as file:\n",
    "    words = file.readlines()\n",
    "\n",
    "    j = 0;\n",
    "for sentence in words:\n",
    "    sentence = sentence.lower()\n",
    "    sentence = re.split('[^a-z]', sentence)\n",
    "    sentence = list(filter(None, sentence))\n",
    "    words[i] = sentence;\n",
    "    i += 1;\n",
    "    \n",
    "\n",
    "\n",
    "    for word in sentence:\n",
    "        if word not in word_index:\n",
    "            word_index.update({word: j});\n",
    "            j += 1;\n",
    "arr = [];\n",
    "for s_index in range(len(words)):\n",
    "    array = numpy.zeros(j + 1)\n",
    "    arr.append(array)\n",
    "    for word in words[s_index]:\n",
    "        w_index = word_index[word]\n",
    "        arr[s_index][w_index] += 1\n",
    "        distances = [];\n",
    "for i in range(len(words)):\n",
    "    distances.append((i, scipy.spatial.distance.cosine(arr[0], arr[i])))\n",
    "answer = sorted(distances, key=lambda tup: tup[1])[2][0], sorted(distances, key=lambda tup: tup[1])[1][0]\n",
    "\n",
    "print (answer)\n"
   ]
  },
  {
   "cell_type": "code",
   "execution_count": null,
   "metadata": {},
   "outputs": [],
   "source": []
  },
  {
   "cell_type": "code",
   "execution_count": null,
   "metadata": {},
   "outputs": [],
   "source": []
  },
  {
   "cell_type": "code",
   "execution_count": null,
   "metadata": {},
   "outputs": [],
   "source": []
  }
 ],
 "metadata": {
  "kernelspec": {
   "display_name": "Python 3",
   "language": "python",
   "name": "python3"
  },
  "language_info": {
   "codemirror_mode": {
    "name": "ipython",
    "version": 3
   },
   "file_extension": ".py",
   "mimetype": "text/x-python",
   "name": "python",
   "nbconvert_exporter": "python",
   "pygments_lexer": "ipython3",
   "version": "3.6.5"
  }
 },
 "nbformat": 4,
 "nbformat_minor": 2
}
