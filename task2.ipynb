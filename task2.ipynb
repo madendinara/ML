{
 "cells": [
  {
   "cell_type": "code",
   "execution_count": 10,
   "metadata": {},
   "outputs": [
    {
     "name": "stdout",
     "output_type": "stream",
     "text": [
      "4.362641535118072 -1.2955258656948436 0.1933368470215116 -0.008235651173320552\n"
     ]
    }
   ],
   "source": [
    "import scipy.linalg\n",
    "from numpy import sin, exp\n",
    "\n",
    "\n",
    "func = lambda x: sin(x / 5.0) * exp(x / 10.0) + 5 * exp(-x / 2.0)\n",
    "\n",
    "A1 = [\n",
    "    [1 ** n for n in range(2)],\n",
    "    [15 ** n for n in range(2)]\n",
    "]\n",
    "b1 = [func(1), func(15)]\n",
    "scipy.linalg.solve(A1, b1)\n",
    "\n",
    "\n",
    "A2 = [\n",
    "    [1 ** n for n in range(3)],\n",
    "    [8 ** n for n in range(3)],\n",
    "    [15 ** n for n in range(3)]\n",
    "]\n",
    "\n",
    "b2 = [func(1), func(8), func(15)]\n",
    "scipy.linalg.solve(A2, b2)\n",
    "\n",
    "A3 = [\n",
    "    [1 ** n for n in range(4)],\n",
    "    [4 ** n for n in range(4)],\n",
    "    [10 ** n for n in range(4)],\n",
    "    [15 ** n for n in range(4)]\n",
    "];\n",
    "b3 = [func(1), func(4), func(10), func(15)]\n",
    "\n",
    "answer = scipy.linalg.solve(A3, b3)\n",
    "print(answer[0], answer[1], answer[2], answer[3])"
   ]
  },
  {
   "cell_type": "code",
   "execution_count": null,
   "metadata": {},
   "outputs": [],
   "source": []
  },
  {
   "cell_type": "code",
   "execution_count": null,
   "metadata": {},
   "outputs": [],
   "source": []
  }
 ],
 "metadata": {
  "kernelspec": {
   "display_name": "Python 3",
   "language": "python",
   "name": "python3"
  },
  "language_info": {
   "codemirror_mode": {
    "name": "ipython",
    "version": 3
   },
   "file_extension": ".py",
   "mimetype": "text/x-python",
   "name": "python",
   "nbconvert_exporter": "python",
   "pygments_lexer": "ipython3",
   "version": "3.6.5"
  }
 },
 "nbformat": 4,
 "nbformat_minor": 2
}
