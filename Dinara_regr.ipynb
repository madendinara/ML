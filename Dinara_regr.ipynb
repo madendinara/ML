{
 "cells": [
  {
   "cell_type": "code",
   "execution_count": 202,
   "metadata": {},
   "outputs": [],
   "source": [
    "import numpy as np\n",
    "from math import sqrt\n",
    "import matplotlib.pyplot as plt\n",
    "from math import pow"
   ]
  },
  {
   "cell_type": "code",
   "execution_count": 203,
   "metadata": {},
   "outputs": [],
   "source": [
    "x = np.array([76, 56, 58, 73, 89, 100, 120, 130, 150, 145])\n",
    "y = np.array([66, 61, 62, 75, 83, 80, 102, 114, 130, 132])\n",
    "x_pow = x ** 2\n",
    "y_pow = y ** 2\n",
    "xy = x * y"
   ]
  },
  {
   "cell_type": "code",
   "execution_count": 204,
   "metadata": {},
   "outputs": [],
   "source": [
    "x_average = np.average(x)\n",
    "y_average = np.average(y)\n",
    "y_pow_average = np.average(y_pow)\n",
    "x_pow_average = np.average(x_pow)\n",
    "_x = x_pow_average - pow(x_average, 2)"
   ]
  },
  {
   "cell_type": "code",
   "execution_count": 205,
   "metadata": {},
   "outputs": [],
   "source": [
    "cov_xy = (xy.sum() / y.size) - (x_average * y_average)\n",
    "a = cov_xy / _x\n",
    "b = y_average - a * x_average"
   ]
  },
  {
   "cell_type": "code",
   "execution_count": 206,
   "metadata": {},
   "outputs": [],
   "source": [
    "y_ = lambda x: a * x + b    "
   ]
  },
  {
   "cell_type": "code",
   "execution_count": 207,
   "metadata": {},
   "outputs": [],
   "source": [
    "graph = []\n",
    "for i in range(y.size):\n",
    "    graph.append(y_(x[i]))"
   ]
  },
  {
   "cell_type": "code",
   "execution_count": 208,
   "metadata": {},
   "outputs": [
    {
     "name": "stdout",
     "output_type": "stream",
     "text": [
      "[72.4026721217158, 57.1306654733747, 58.65786613820881, 70.11187112446464, 82.32947644313751, 90.72908009972512, 106.00108674806621, 113.63709007223677, 128.90909672057788, 125.0910950584926]\n",
      "0.763600332417055\n",
      "14.369046858019615\n"
     ]
    },
    {
     "data": {
      "image/png": "[encoded data removed]",
      "text/plain": [
       "<Figure size 432x288 with 1 Axes>"
      ]
     },
     "metadata": {
      "needs_background": "light"
     },
     "output_type": "display_data"
    }
   ],
   "source": [
    "plt.plot(x, y, 'ro', color = 'r')\n",
    "plt.plot(x, graph, color = 'g')\n",
    "print(graph)\n",
    "print(a)\n",
    "print(b)"
   ]
  },
  {
   "cell_type": "code",
   "execution_count": null,
   "metadata": {},
   "outputs": [],
   "source": []
  },
  {
   "cell_type": "code",
   "execution_count": null,
   "metadata": {},
   "outputs": [],
   "source": []
  },
  {
   "cell_type": "code",
   "execution_count": null,
   "metadata": {},
   "outputs": [],
   "source": []
  },
  {
   "cell_type": "code",
   "execution_count": null,
   "metadata": {},
   "outputs": [],
   "source": []
  },
  {
   "cell_type": "code",
   "execution_count": null,
   "metadata": {},
   "outputs": [],
   "source": []
  }
 ],
 "metadata": {
  "kernelspec": {
   "display_name": "Python 3",
   "language": "python",
   "name": "python3"
  },
  "language_info": {
   "codemirror_mode": {
    "name": "ipython",
    "version": 3
   },
   "file_extension": ".py",
   "mimetype": "text/x-python",
   "name": "python",
   "nbconvert_exporter": "python",
   "pygments_lexer": "ipython3",
   "version": "3.7.0"
  }
 },
 "nbformat": 4,
 "nbformat_minor": 2
}
